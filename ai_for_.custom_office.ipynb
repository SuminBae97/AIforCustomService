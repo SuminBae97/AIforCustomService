{
 "cells": [
  {
   "cell_type": "markdown",
   "metadata": {},
   "source": [
    "# 1. 데이터 로딩"
   ]
  },
  {
   "cell_type": "code",
   "execution_count": 1,
   "metadata": {},
   "outputs": [],
   "source": [
    "# 패키지 로딩\n",
    "import pickle\n",
    "import pandas as pd\n",
    "import numpy as np\n",
    "import matplotlib.pyplot as plt"
   ]
  },
  {
   "cell_type": "code",
   "execution_count": 2,
   "metadata": {},
   "outputs": [],
   "source": [
    "df = pd.read_excel('train.xlsx',engine='openpyxl')"
   ]
  },
  {
   "cell_type": "code",
   "execution_count": 3,
   "metadata": {},
   "outputs": [],
   "source": [
    "df_test = pd.read_excel('test.xlsx',engine='openpyxl')"
   ]
  },
  {
   "cell_type": "code",
   "execution_count": 4,
   "metadata": {},
   "outputs": [],
   "source": [
    "# test.xlsx에 존재하는 빈 행들을 불러오지 않게 하기 위함 \n",
    "df_test = df_test[df_test['신고번호'].isnull()==False]"
   ]
  },
  {
   "cell_type": "code",
   "execution_count": 5,
   "metadata": {},
   "outputs": [
    {
     "data": {
      "text/html": [
       "<div>\n",
       "<style scoped>\n",
       "    .dataframe tbody tr th:only-of-type {\n",
       "        vertical-align: middle;\n",
       "    }\n",
       "\n",
       "    .dataframe tbody tr th {\n",
       "        vertical-align: top;\n",
       "    }\n",
       "\n",
       "    .dataframe thead th {\n",
       "        text-align: right;\n",
       "    }\n",
       "</style>\n",
       "<table border=\"1\" class=\"dataframe\">\n",
       "  <thead>\n",
       "    <tr style=\"text-align: right;\">\n",
       "      <th></th>\n",
       "      <th>신고번호</th>\n",
       "      <th>신고일자</th>\n",
       "      <th>통관지세관부호</th>\n",
       "      <th>신고인부호</th>\n",
       "      <th>수입자부호</th>\n",
       "      <th>해외거래처부호</th>\n",
       "      <th>특송업체부호</th>\n",
       "      <th>수입통관계획코드</th>\n",
       "      <th>수입신고구분코드</th>\n",
       "      <th>수입거래구분코드</th>\n",
       "      <th>...</th>\n",
       "      <th>징수형태코드</th>\n",
       "      <th>신고중량(KG)</th>\n",
       "      <th>과세가격원화금액</th>\n",
       "      <th>운송수단유형코드</th>\n",
       "      <th>반입보세구역부호</th>\n",
       "      <th>HS10단위부호</th>\n",
       "      <th>적출국가코드</th>\n",
       "      <th>원산지국가코드</th>\n",
       "      <th>관세율구분코드</th>\n",
       "      <th>관세율</th>\n",
       "    </tr>\n",
       "  </thead>\n",
       "  <tbody>\n",
       "    <tr>\n",
       "      <th>0</th>\n",
       "      <td>71490948.0</td>\n",
       "      <td>2020-10-01</td>\n",
       "      <td>40.0</td>\n",
       "      <td>VBLHO</td>\n",
       "      <td>3OP9VQA</td>\n",
       "      <td>SCATEYR</td>\n",
       "      <td>NaN</td>\n",
       "      <td>F</td>\n",
       "      <td>B</td>\n",
       "      <td>11.0</td>\n",
       "      <td>...</td>\n",
       "      <td>11.0</td>\n",
       "      <td>2555.1</td>\n",
       "      <td>1.931589e+04</td>\n",
       "      <td>10.0</td>\n",
       "      <td>2006026.0</td>\n",
       "      <td>2.106909e+09</td>\n",
       "      <td>US</td>\n",
       "      <td>US</td>\n",
       "      <td>A</td>\n",
       "      <td>8.0</td>\n",
       "    </tr>\n",
       "    <tr>\n",
       "      <th>1</th>\n",
       "      <td>44137011.0</td>\n",
       "      <td>2020-10-01</td>\n",
       "      <td>16.0</td>\n",
       "      <td>WA5M0</td>\n",
       "      <td>83SAUAT</td>\n",
       "      <td>4NISLJN</td>\n",
       "      <td>NaN</td>\n",
       "      <td>C</td>\n",
       "      <td>B</td>\n",
       "      <td>11.0</td>\n",
       "      <td>...</td>\n",
       "      <td>11.0</td>\n",
       "      <td>4010.0</td>\n",
       "      <td>5.373710e+05</td>\n",
       "      <td>40.0</td>\n",
       "      <td>4077010.0</td>\n",
       "      <td>2.101209e+09</td>\n",
       "      <td>CN</td>\n",
       "      <td>CN</td>\n",
       "      <td>A</td>\n",
       "      <td>40.0</td>\n",
       "    </tr>\n",
       "    <tr>\n",
       "      <th>2</th>\n",
       "      <td>73320079.0</td>\n",
       "      <td>2020-10-01</td>\n",
       "      <td>20.0</td>\n",
       "      <td>VRNEF</td>\n",
       "      <td>3O3X3AX</td>\n",
       "      <td>NaN</td>\n",
       "      <td>NaN</td>\n",
       "      <td>C</td>\n",
       "      <td>B</td>\n",
       "      <td>11.0</td>\n",
       "      <td>...</td>\n",
       "      <td>11.0</td>\n",
       "      <td>4013.3</td>\n",
       "      <td>1.047361e+06</td>\n",
       "      <td>10.0</td>\n",
       "      <td>2010205.0</td>\n",
       "      <td>3.905300e+09</td>\n",
       "      <td>CN</td>\n",
       "      <td>CN</td>\n",
       "      <td>FCN1</td>\n",
       "      <td>0.0</td>\n",
       "    </tr>\n",
       "    <tr>\n",
       "      <th>3</th>\n",
       "      <td>86297956.0</td>\n",
       "      <td>2020-10-01</td>\n",
       "      <td>40.0</td>\n",
       "      <td>BRX0U</td>\n",
       "      <td>5WYTQWD</td>\n",
       "      <td>QV5FBDU</td>\n",
       "      <td>NaN</td>\n",
       "      <td>F</td>\n",
       "      <td>B</td>\n",
       "      <td>15.0</td>\n",
       "      <td>...</td>\n",
       "      <td>11.0</td>\n",
       "      <td>3896.8</td>\n",
       "      <td>1.963920e+04</td>\n",
       "      <td>10.0</td>\n",
       "      <td>4002001.0</td>\n",
       "      <td>3.924909e+09</td>\n",
       "      <td>CN</td>\n",
       "      <td>CN</td>\n",
       "      <td>FCN1</td>\n",
       "      <td>0.0</td>\n",
       "    </tr>\n",
       "    <tr>\n",
       "      <th>4</th>\n",
       "      <td>62899313.0</td>\n",
       "      <td>2020-10-01</td>\n",
       "      <td>40.0</td>\n",
       "      <td>7Q31W</td>\n",
       "      <td>OA6OSVF</td>\n",
       "      <td>3PZI1L8</td>\n",
       "      <td>NaN</td>\n",
       "      <td>C</td>\n",
       "      <td>B</td>\n",
       "      <td>11.0</td>\n",
       "      <td>...</td>\n",
       "      <td>18.0</td>\n",
       "      <td>4976.7</td>\n",
       "      <td>1.360200e+05</td>\n",
       "      <td>10.0</td>\n",
       "      <td>4077010.0</td>\n",
       "      <td>2.309901e+09</td>\n",
       "      <td>PK</td>\n",
       "      <td>PK</td>\n",
       "      <td>A</td>\n",
       "      <td>4.2</td>\n",
       "    </tr>\n",
       "    <tr>\n",
       "      <th>...</th>\n",
       "      <td>...</td>\n",
       "      <td>...</td>\n",
       "      <td>...</td>\n",
       "      <td>...</td>\n",
       "      <td>...</td>\n",
       "      <td>...</td>\n",
       "      <td>...</td>\n",
       "      <td>...</td>\n",
       "      <td>...</td>\n",
       "      <td>...</td>\n",
       "      <td>...</td>\n",
       "      <td>...</td>\n",
       "      <td>...</td>\n",
       "      <td>...</td>\n",
       "      <td>...</td>\n",
       "      <td>...</td>\n",
       "      <td>...</td>\n",
       "      <td>...</td>\n",
       "      <td>...</td>\n",
       "      <td>...</td>\n",
       "      <td>...</td>\n",
       "    </tr>\n",
       "    <tr>\n",
       "      <th>23158</th>\n",
       "      <td>33357888.0</td>\n",
       "      <td>2020-12-31</td>\n",
       "      <td>40.0</td>\n",
       "      <td>QPV57</td>\n",
       "      <td>2OWH6M7</td>\n",
       "      <td>I0MG4ZH</td>\n",
       "      <td>NaN</td>\n",
       "      <td>D</td>\n",
       "      <td>B</td>\n",
       "      <td>11.0</td>\n",
       "      <td>...</td>\n",
       "      <td>11.0</td>\n",
       "      <td>420.8</td>\n",
       "      <td>4.690141e+03</td>\n",
       "      <td>40.0</td>\n",
       "      <td>4002001.0</td>\n",
       "      <td>4.202921e+09</td>\n",
       "      <td>CN</td>\n",
       "      <td>CN</td>\n",
       "      <td>A</td>\n",
       "      <td>8.0</td>\n",
       "    </tr>\n",
       "    <tr>\n",
       "      <th>23159</th>\n",
       "      <td>14455915.0</td>\n",
       "      <td>2020-12-31</td>\n",
       "      <td>13.0</td>\n",
       "      <td>F57Z2</td>\n",
       "      <td>35JHADJ</td>\n",
       "      <td>40P9B1W</td>\n",
       "      <td>QJ0YGH</td>\n",
       "      <td>F</td>\n",
       "      <td>B</td>\n",
       "      <td>89.0</td>\n",
       "      <td>...</td>\n",
       "      <td>33.0</td>\n",
       "      <td>19979.0</td>\n",
       "      <td>3.955338e+06</td>\n",
       "      <td>40.0</td>\n",
       "      <td>4077106.0</td>\n",
       "      <td>9.001300e+09</td>\n",
       "      <td>DE</td>\n",
       "      <td>DE</td>\n",
       "      <td>C</td>\n",
       "      <td>8.0</td>\n",
       "    </tr>\n",
       "    <tr>\n",
       "      <th>23160</th>\n",
       "      <td>83923494.0</td>\n",
       "      <td>2020-12-31</td>\n",
       "      <td>40.0</td>\n",
       "      <td>4TYA6</td>\n",
       "      <td>OEYQJDQ</td>\n",
       "      <td>NaN</td>\n",
       "      <td>NaN</td>\n",
       "      <td>D</td>\n",
       "      <td>B</td>\n",
       "      <td>11.0</td>\n",
       "      <td>...</td>\n",
       "      <td>11.0</td>\n",
       "      <td>3793.2</td>\n",
       "      <td>2.673082e+06</td>\n",
       "      <td>10.0</td>\n",
       "      <td>3078022.0</td>\n",
       "      <td>8.525801e+09</td>\n",
       "      <td>VN</td>\n",
       "      <td>VN</td>\n",
       "      <td>CIT</td>\n",
       "      <td>0.0</td>\n",
       "    </tr>\n",
       "    <tr>\n",
       "      <th>23161</th>\n",
       "      <td>17890784.0</td>\n",
       "      <td>2020-12-31</td>\n",
       "      <td>30.0</td>\n",
       "      <td>CGMT6</td>\n",
       "      <td>V69LHEI</td>\n",
       "      <td>NaN</td>\n",
       "      <td>PR5UFJ</td>\n",
       "      <td>C</td>\n",
       "      <td>B</td>\n",
       "      <td>11.0</td>\n",
       "      <td>...</td>\n",
       "      <td>11.0</td>\n",
       "      <td>5148.8</td>\n",
       "      <td>1.147732e+05</td>\n",
       "      <td>10.0</td>\n",
       "      <td>2006089.0</td>\n",
       "      <td>2.106909e+09</td>\n",
       "      <td>US</td>\n",
       "      <td>US</td>\n",
       "      <td>A</td>\n",
       "      <td>8.0</td>\n",
       "    </tr>\n",
       "    <tr>\n",
       "      <th>23162</th>\n",
       "      <td>99164173.0</td>\n",
       "      <td>2020-12-31</td>\n",
       "      <td>16.0</td>\n",
       "      <td>HY5FQ</td>\n",
       "      <td>FUQRKQL</td>\n",
       "      <td>W46PYSV</td>\n",
       "      <td>YGHZ0X</td>\n",
       "      <td>C</td>\n",
       "      <td>B</td>\n",
       "      <td>15.0</td>\n",
       "      <td>...</td>\n",
       "      <td>18.0</td>\n",
       "      <td>13906.2</td>\n",
       "      <td>5.470683e+07</td>\n",
       "      <td>40.0</td>\n",
       "      <td>1011065.0</td>\n",
       "      <td>9.018904e+09</td>\n",
       "      <td>JP</td>\n",
       "      <td>JP</td>\n",
       "      <td>A</td>\n",
       "      <td>8.0</td>\n",
       "    </tr>\n",
       "  </tbody>\n",
       "</table>\n",
       "<p>23163 rows × 21 columns</p>\n",
       "</div>"
      ],
      "text/plain": [
       "             신고번호       신고일자  통관지세관부호  신고인부호    수입자부호  해외거래처부호  특송업체부호  \\\n",
       "0      71490948.0 2020-10-01     40.0  VBLHO  3OP9VQA  SCATEYR     NaN   \n",
       "1      44137011.0 2020-10-01     16.0  WA5M0  83SAUAT  4NISLJN     NaN   \n",
       "2      73320079.0 2020-10-01     20.0  VRNEF  3O3X3AX      NaN     NaN   \n",
       "3      86297956.0 2020-10-01     40.0  BRX0U  5WYTQWD  QV5FBDU     NaN   \n",
       "4      62899313.0 2020-10-01     40.0  7Q31W  OA6OSVF  3PZI1L8     NaN   \n",
       "...           ...        ...      ...    ...      ...      ...     ...   \n",
       "23158  33357888.0 2020-12-31     40.0  QPV57  2OWH6M7  I0MG4ZH     NaN   \n",
       "23159  14455915.0 2020-12-31     13.0  F57Z2  35JHADJ  40P9B1W  QJ0YGH   \n",
       "23160  83923494.0 2020-12-31     40.0  4TYA6  OEYQJDQ      NaN     NaN   \n",
       "23161  17890784.0 2020-12-31     30.0  CGMT6  V69LHEI      NaN  PR5UFJ   \n",
       "23162  99164173.0 2020-12-31     16.0  HY5FQ  FUQRKQL  W46PYSV  YGHZ0X   \n",
       "\n",
       "      수입통관계획코드 수입신고구분코드  수입거래구분코드  ...  징수형태코드  신고중량(KG)      과세가격원화금액  \\\n",
       "0            F        B      11.0  ...    11.0    2555.1  1.931589e+04   \n",
       "1            C        B      11.0  ...    11.0    4010.0  5.373710e+05   \n",
       "2            C        B      11.0  ...    11.0    4013.3  1.047361e+06   \n",
       "3            F        B      15.0  ...    11.0    3896.8  1.963920e+04   \n",
       "4            C        B      11.0  ...    18.0    4976.7  1.360200e+05   \n",
       "...        ...      ...       ...  ...     ...       ...           ...   \n",
       "23158        D        B      11.0  ...    11.0     420.8  4.690141e+03   \n",
       "23159        F        B      89.0  ...    33.0   19979.0  3.955338e+06   \n",
       "23160        D        B      11.0  ...    11.0    3793.2  2.673082e+06   \n",
       "23161        C        B      11.0  ...    11.0    5148.8  1.147732e+05   \n",
       "23162        C        B      15.0  ...    18.0   13906.2  5.470683e+07   \n",
       "\n",
       "       운송수단유형코드   반입보세구역부호      HS10단위부호  적출국가코드 원산지국가코드 관세율구분코드   관세율  \n",
       "0          10.0  2006026.0  2.106909e+09      US      US       A   8.0  \n",
       "1          40.0  4077010.0  2.101209e+09      CN      CN       A  40.0  \n",
       "2          10.0  2010205.0  3.905300e+09      CN      CN    FCN1   0.0  \n",
       "3          10.0  4002001.0  3.924909e+09      CN      CN    FCN1   0.0  \n",
       "4          10.0  4077010.0  2.309901e+09      PK      PK       A   4.2  \n",
       "...         ...        ...           ...     ...     ...     ...   ...  \n",
       "23158      40.0  4002001.0  4.202921e+09      CN      CN       A   8.0  \n",
       "23159      40.0  4077106.0  9.001300e+09      DE      DE       C   8.0  \n",
       "23160      10.0  3078022.0  8.525801e+09      VN      VN     CIT   0.0  \n",
       "23161      10.0  2006089.0  2.106909e+09      US      US       A   8.0  \n",
       "23162      40.0  1011065.0  9.018904e+09      JP      JP       A   8.0  \n",
       "\n",
       "[23163 rows x 21 columns]"
      ]
     },
     "execution_count": 5,
     "metadata": {},
     "output_type": "execute_result"
    }
   ],
   "source": [
    "df_test"
   ]
  },
  {
   "cell_type": "code",
   "execution_count": 6,
   "metadata": {
    "scrolled": true
   },
   "outputs": [
    {
     "data": {
      "text/plain": [
       "((76837, 24), (23163, 21))"
      ]
     },
     "execution_count": 6,
     "metadata": {},
     "output_type": "execute_result"
    }
   ],
   "source": [
    "df.shape , df_test.shape"
   ]
  },
  {
   "cell_type": "code",
   "execution_count": 7,
   "metadata": {
    "scrolled": true
   },
   "outputs": [
    {
     "data": {
      "text/html": [
       "<div>\n",
       "<style scoped>\n",
       "    .dataframe tbody tr th:only-of-type {\n",
       "        vertical-align: middle;\n",
       "    }\n",
       "\n",
       "    .dataframe tbody tr th {\n",
       "        vertical-align: top;\n",
       "    }\n",
       "\n",
       "    .dataframe thead th {\n",
       "        text-align: right;\n",
       "    }\n",
       "</style>\n",
       "<table border=\"1\" class=\"dataframe\">\n",
       "  <thead>\n",
       "    <tr style=\"text-align: right;\">\n",
       "      <th></th>\n",
       "      <th>신고번호</th>\n",
       "      <th>신고일자</th>\n",
       "      <th>통관지세관부호</th>\n",
       "      <th>신고인부호</th>\n",
       "      <th>수입자부호</th>\n",
       "      <th>해외거래처부호</th>\n",
       "      <th>특송업체부호</th>\n",
       "      <th>수입통관계획코드</th>\n",
       "      <th>수입신고구분코드</th>\n",
       "      <th>수입거래구분코드</th>\n",
       "      <th>...</th>\n",
       "      <th>운송수단유형코드</th>\n",
       "      <th>반입보세구역부호</th>\n",
       "      <th>HS10단위부호</th>\n",
       "      <th>적출국가코드</th>\n",
       "      <th>원산지국가코드</th>\n",
       "      <th>관세율구분코드</th>\n",
       "      <th>관세율</th>\n",
       "      <th>검사결과코드</th>\n",
       "      <th>우범여부</th>\n",
       "      <th>핵심적발</th>\n",
       "    </tr>\n",
       "  </thead>\n",
       "  <tbody>\n",
       "    <tr>\n",
       "      <th>0</th>\n",
       "      <td>57298928</td>\n",
       "      <td>2020-01-01</td>\n",
       "      <td>121</td>\n",
       "      <td>2O5A2</td>\n",
       "      <td>82ZHWNL</td>\n",
       "      <td>NaN</td>\n",
       "      <td>TQ18AK</td>\n",
       "      <td>D</td>\n",
       "      <td>B</td>\n",
       "      <td>15</td>\n",
       "      <td>...</td>\n",
       "      <td>10</td>\n",
       "      <td>2106003</td>\n",
       "      <td>8481900000</td>\n",
       "      <td>US</td>\n",
       "      <td>US</td>\n",
       "      <td>A</td>\n",
       "      <td>8.0</td>\n",
       "      <td>N3</td>\n",
       "      <td>1</td>\n",
       "      <td>1</td>\n",
       "    </tr>\n",
       "    <tr>\n",
       "      <th>1</th>\n",
       "      <td>85092852</td>\n",
       "      <td>2020-01-01</td>\n",
       "      <td>30</td>\n",
       "      <td>305K5</td>\n",
       "      <td>5IS70LE</td>\n",
       "      <td>NaN</td>\n",
       "      <td>NaN</td>\n",
       "      <td>C</td>\n",
       "      <td>B</td>\n",
       "      <td>11</td>\n",
       "      <td>...</td>\n",
       "      <td>40</td>\n",
       "      <td>4077010</td>\n",
       "      <td>2106909099</td>\n",
       "      <td>US</td>\n",
       "      <td>US</td>\n",
       "      <td>A</td>\n",
       "      <td>8.0</td>\n",
       "      <td>A</td>\n",
       "      <td>0</td>\n",
       "      <td>0</td>\n",
       "    </tr>\n",
       "    <tr>\n",
       "      <th>2</th>\n",
       "      <td>63014158</td>\n",
       "      <td>2020-01-01</td>\n",
       "      <td>20</td>\n",
       "      <td>CGMT6</td>\n",
       "      <td>GJ5KBL3</td>\n",
       "      <td>R9ZQOG7</td>\n",
       "      <td>NaN</td>\n",
       "      <td>D</td>\n",
       "      <td>B</td>\n",
       "      <td>11</td>\n",
       "      <td>...</td>\n",
       "      <td>40</td>\n",
       "      <td>4077007</td>\n",
       "      <td>6307909000</td>\n",
       "      <td>US</td>\n",
       "      <td>US</td>\n",
       "      <td>A</td>\n",
       "      <td>10.0</td>\n",
       "      <td>A</td>\n",
       "      <td>0</td>\n",
       "      <td>0</td>\n",
       "    </tr>\n",
       "    <tr>\n",
       "      <th>3</th>\n",
       "      <td>40175917</td>\n",
       "      <td>2020-01-01</td>\n",
       "      <td>40</td>\n",
       "      <td>QWUTG</td>\n",
       "      <td>PBYW02T</td>\n",
       "      <td>NaN</td>\n",
       "      <td>NaN</td>\n",
       "      <td>C</td>\n",
       "      <td>B</td>\n",
       "      <td>94</td>\n",
       "      <td>...</td>\n",
       "      <td>40</td>\n",
       "      <td>4077106</td>\n",
       "      <td>6505009090</td>\n",
       "      <td>CN</td>\n",
       "      <td>CN</td>\n",
       "      <td>A</td>\n",
       "      <td>8.0</td>\n",
       "      <td>A</td>\n",
       "      <td>0</td>\n",
       "      <td>0</td>\n",
       "    </tr>\n",
       "    <tr>\n",
       "      <th>4</th>\n",
       "      <td>11602631</td>\n",
       "      <td>2020-01-01</td>\n",
       "      <td>30</td>\n",
       "      <td>0X1CO</td>\n",
       "      <td>MCX0GJB</td>\n",
       "      <td>4Z9PX0Y</td>\n",
       "      <td>NaN</td>\n",
       "      <td>C</td>\n",
       "      <td>B</td>\n",
       "      <td>11</td>\n",
       "      <td>...</td>\n",
       "      <td>40</td>\n",
       "      <td>2006075</td>\n",
       "      <td>6204320000</td>\n",
       "      <td>CN</td>\n",
       "      <td>CN</td>\n",
       "      <td>FCN1</td>\n",
       "      <td>5.2</td>\n",
       "      <td>M1_N1</td>\n",
       "      <td>1</td>\n",
       "      <td>1</td>\n",
       "    </tr>\n",
       "  </tbody>\n",
       "</table>\n",
       "<p>5 rows × 24 columns</p>\n",
       "</div>"
      ],
      "text/plain": [
       "       신고번호       신고일자  통관지세관부호  신고인부호    수입자부호  해외거래처부호  특송업체부호 수입통관계획코드  \\\n",
       "0  57298928 2020-01-01      121  2O5A2  82ZHWNL      NaN  TQ18AK        D   \n",
       "1  85092852 2020-01-01       30  305K5  5IS70LE      NaN     NaN        C   \n",
       "2  63014158 2020-01-01       20  CGMT6  GJ5KBL3  R9ZQOG7     NaN        D   \n",
       "3  40175917 2020-01-01       40  QWUTG  PBYW02T      NaN     NaN        C   \n",
       "4  11602631 2020-01-01       30  0X1CO  MCX0GJB  4Z9PX0Y     NaN        C   \n",
       "\n",
       "  수입신고구분코드  수입거래구분코드  ...  운송수단유형코드  반입보세구역부호    HS10단위부호  적출국가코드  원산지국가코드  \\\n",
       "0        B        15  ...        10   2106003  8481900000      US       US   \n",
       "1        B        11  ...        40   4077010  2106909099      US       US   \n",
       "2        B        11  ...        40   4077007  6307909000      US       US   \n",
       "3        B        94  ...        40   4077106  6505009090      CN       CN   \n",
       "4        B        11  ...        40   2006075  6204320000      CN       CN   \n",
       "\n",
       "   관세율구분코드   관세율 검사결과코드 우범여부 핵심적발  \n",
       "0        A   8.0     N3    1    1  \n",
       "1        A   8.0      A    0    0  \n",
       "2        A  10.0      A    0    0  \n",
       "3        A   8.0      A    0    0  \n",
       "4     FCN1   5.2  M1_N1    1    1  \n",
       "\n",
       "[5 rows x 24 columns]"
      ]
     },
     "execution_count": 7,
     "metadata": {},
     "output_type": "execute_result"
    }
   ],
   "source": [
    "df.head(5)"
   ]
  },
  {
   "cell_type": "code",
   "execution_count": 8,
   "metadata": {
    "scrolled": true
   },
   "outputs": [
    {
     "data": {
      "text/plain": [
       "Index(['신고번호', '신고일자', '통관지세관부호', '신고인부호', '수입자부호', '해외거래처부호', '특송업체부호',\n",
       "       '수입통관계획코드', '수입신고구분코드', '수입거래구분코드', '수입종류코드', '징수형태코드', '신고중량(KG)',\n",
       "       '과세가격원화금액', '운송수단유형코드', '반입보세구역부호', 'HS10단위부호', '적출국가코드', '원산지국가코드',\n",
       "       '관세율구분코드', '관세율', '검사결과코드', '우범여부', '핵심적발'],\n",
       "      dtype='object')"
      ]
     },
     "execution_count": 8,
     "metadata": {},
     "output_type": "execute_result"
    }
   ],
   "source": [
    "df.columns"
   ]
  },
  {
   "cell_type": "code",
   "execution_count": 9,
   "metadata": {
    "scrolled": true
   },
   "outputs": [
    {
     "name": "stdout",
     "output_type": "stream",
     "text": [
      "<class 'pandas.core.frame.DataFrame'>\n",
      "RangeIndex: 76837 entries, 0 to 76836\n",
      "Data columns (total 24 columns):\n",
      "신고번호        76837 non-null int64\n",
      "신고일자        76837 non-null datetime64[ns]\n",
      "통관지세관부호     76837 non-null int64\n",
      "신고인부호       76837 non-null object\n",
      "수입자부호       76829 non-null object\n",
      "해외거래처부호     50544 non-null object\n",
      "특송업체부호      25106 non-null object\n",
      "수입통관계획코드    76837 non-null object\n",
      "수입신고구분코드    76837 non-null object\n",
      "수입거래구분코드    76837 non-null int64\n",
      "수입종류코드      76837 non-null int64\n",
      "징수형태코드      76837 non-null int64\n",
      "신고중량(KG)    76837 non-null float64\n",
      "과세가격원화금액    76837 non-null float64\n",
      "운송수단유형코드    76837 non-null int64\n",
      "반입보세구역부호    76837 non-null int64\n",
      "HS10단위부호    76837 non-null int64\n",
      "적출국가코드      76837 non-null object\n",
      "원산지국가코드     76837 non-null object\n",
      "관세율구분코드     76837 non-null object\n",
      "관세율         76837 non-null float64\n",
      "검사결과코드      76837 non-null object\n",
      "우범여부        76837 non-null int64\n",
      "핵심적발        76837 non-null int64\n",
      "dtypes: datetime64[ns](1), float64(3), int64(10), object(10)\n",
      "memory usage: 14.1+ MB\n"
     ]
    }
   ],
   "source": [
    "df.info()"
   ]
  },
  {
   "cell_type": "code",
   "execution_count": 10,
   "metadata": {},
   "outputs": [
    {
     "name": "stdout",
     "output_type": "stream",
     "text": [
      "<class 'pandas.core.frame.DataFrame'>\n",
      "Int64Index: 23163 entries, 0 to 23162\n",
      "Data columns (total 21 columns):\n",
      "신고번호        23163 non-null float64\n",
      "신고일자        23163 non-null datetime64[ns]\n",
      "통관지세관부호     23163 non-null float64\n",
      "신고인부호       23163 non-null object\n",
      "수입자부호       23162 non-null object\n",
      "해외거래처부호     15489 non-null object\n",
      "특송업체부호      7733 non-null object\n",
      "수입통관계획코드    23163 non-null object\n",
      "수입신고구분코드    23163 non-null object\n",
      "수입거래구분코드    23163 non-null float64\n",
      "수입종류코드      23163 non-null float64\n",
      "징수형태코드      23163 non-null float64\n",
      "신고중량(KG)    23163 non-null float64\n",
      "과세가격원화금액    23163 non-null float64\n",
      "운송수단유형코드    23163 non-null float64\n",
      "반입보세구역부호    23163 non-null float64\n",
      "HS10단위부호    23163 non-null float64\n",
      "적출국가코드      23163 non-null object\n",
      "원산지국가코드     23163 non-null object\n",
      "관세율구분코드     23163 non-null object\n",
      "관세율         23163 non-null float64\n",
      "dtypes: datetime64[ns](1), float64(11), object(9)\n",
      "memory usage: 3.9+ MB\n"
     ]
    }
   ],
   "source": [
    "df_test.info()"
   ]
  },
  {
   "cell_type": "markdown",
   "metadata": {},
   "source": [
    "# 2. 변수제거"
   ]
  },
  {
   "cell_type": "code",
   "execution_count": 11,
   "metadata": {
    "scrolled": true
   },
   "outputs": [],
   "source": [
    "# train data 불필요한 컬럼 제거\n",
    "del df['검사결과코드']\n",
    "del df['핵심적발']\n",
    "del df['신고번호']"
   ]
  },
  {
   "cell_type": "code",
   "execution_count": 12,
   "metadata": {
    "scrolled": true
   },
   "outputs": [],
   "source": [
    "# test 불필요한 컬럼 제거\n",
    "del df_test['신고번호']"
   ]
  },
  {
   "cell_type": "code",
   "execution_count": 13,
   "metadata": {},
   "outputs": [],
   "source": [
    "# 여러 번의 feature제거를 통해 알아낸 최적의 feature만 남기고 나머지 feature 제거\n",
    "del df['신고일자']\n",
    "del df['신고인부호']\n",
    "del df['수입자부호']\n",
    "del df['HS10단위부호']\n",
    "del df['적출국가코드']\n",
    "del df['원산지국가코드']\n",
    "del df['관세율구분코드']\n",
    "del df['과세가격원화금액']\n",
    "\n",
    "\n",
    "del df_test['신고일자']\n",
    "del df_test['신고인부호']\n",
    "del df_test['수입자부호']\n",
    "del df_test['HS10단위부호']\n",
    "del df_test['적출국가코드']\n",
    "del df_test['원산지국가코드']\n",
    "del df_test['관세율구분코드']\n",
    "del df_test['과세가격원화금액']\n"
   ]
  },
  {
   "cell_type": "markdown",
   "metadata": {},
   "source": [
    "### 범수형변수 지정 + null값 string화"
   ]
  },
  {
   "cell_type": "code",
   "execution_count": 14,
   "metadata": {},
   "outputs": [],
   "source": [
    "# 범주형 변수 지정\n",
    "discrete_columns = [ '통관지세관부호','해외거래처부호', '특송업체부호','수입통관계획코드', '수입신고구분코드',\n",
    "                    '수입거래구분코드', '수입종류코드', '징수형태코드','운송수단유형코드', '반입보세구역부호']\n",
    "\n",
    "# 범주형 변수들을 문자열로 지정 ('object' -> 'string')\n",
    "# train\n",
    "for var in discrete_columns:\n",
    "    df[var] = df[var].astype(str)\n",
    "    \n",
    "# test\n",
    "for var in discrete_columns:\n",
    "    df_test[var] = df_test[var].astype(str)"
   ]
  },
  {
   "cell_type": "code",
   "execution_count": 15,
   "metadata": {},
   "outputs": [
    {
     "data": {
      "text/plain": [
       "((76837, 13), (23163, 12))"
      ]
     },
     "execution_count": 15,
     "metadata": {},
     "output_type": "execute_result"
    }
   ],
   "source": [
    "df.shape,df_test.shape"
   ]
  },
  {
   "cell_type": "markdown",
   "metadata": {},
   "source": [
    "# 3. Categorical Feature 그룹화 및 숫자로 변환"
   ]
  },
  {
   "cell_type": "markdown",
   "metadata": {},
   "source": [
    "### 수입통관계획코드"
   ]
  },
  {
   "cell_type": "code",
   "execution_count": 16,
   "metadata": {},
   "outputs": [],
   "source": [
    "# t에 지정된 값 이외에 나머지는 하나로 그룹화\n",
    "var = '수입통관계획코드'\n",
    "t = ['B','C','D','E','F']\n",
    "\n",
    "label_encoding_ref = {}\n",
    "label_encoding_ref[var] ={code: i+1 for i, code in enumerate(t)}\n",
    "\n",
    "# train\n",
    "df[var] = [label_encoding_ref[var].get(x,0) for x in df[var]]\n",
    "df.reset_index(drop=True, inplace=True)\n",
    "\n",
    "# test\n",
    "df_test[var] = [label_encoding_ref[var].get(x,0) for x in df_test[var]]\n",
    "df_test.reset_index(drop=True, inplace=True)"
   ]
  },
  {
   "cell_type": "markdown",
   "metadata": {},
   "source": [
    "### 수입신고구분코드"
   ]
  },
  {
   "cell_type": "code",
   "execution_count": 17,
   "metadata": {},
   "outputs": [],
   "source": [
    "# t에 지정된 값 이외에 나머지는 하나로 그룹화\n",
    "var = '수입신고구분코드'\n",
    "t = ['B','D','E']\n",
    "\n",
    "label_encoding_ref = {}\n",
    "label_encoding_ref[var] ={code: i+1 for i, code in enumerate(t)}\n",
    "\n",
    "# train\n",
    "df[var] = [label_encoding_ref[var].get(x,0) for x in df[var]]\n",
    "df.reset_index(drop=True, inplace=True)\n",
    "\n",
    "# test\n",
    "df_test[var] = [label_encoding_ref[var].get(x,0) for x in df_test[var]]\n",
    "df_test.reset_index(drop=True, inplace=True)"
   ]
  },
  {
   "cell_type": "markdown",
   "metadata": {},
   "source": [
    "### 운송수단유형코드"
   ]
  },
  {
   "cell_type": "code",
   "execution_count": 18,
   "metadata": {},
   "outputs": [],
   "source": [
    "# t에 지정된 값 이외에 나머지는 하나로 그룹화\n",
    "var = '운송수단유형코드'\n",
    "t = ['40','10','50','60']\n",
    "\n",
    "label_encoding_ref = {}\n",
    "label_encoding_ref[var] ={code: i+1 for i, code in enumerate(t)}\n",
    "\n",
    "# train\n",
    "df[var] = [label_encoding_ref[var].get(x,0) for x in df[var]]\n",
    "df.reset_index(drop=True, inplace=True)\n",
    "\n",
    "# test\n",
    "df_test[var] = [label_encoding_ref[var].get(x,0) for x in df_test[var]]\n",
    "df_test.reset_index(drop=True, inplace=True)"
   ]
  },
  {
   "cell_type": "markdown",
   "metadata": {},
   "source": [
    "### 통관지세관부호"
   ]
  },
  {
   "cell_type": "code",
   "execution_count": 19,
   "metadata": {},
   "outputs": [],
   "source": [
    "# t에 지정된 값 이외에 나머지는 하나로 그룹화\n",
    "var = '통관지세관부호'\n",
    "t = ['40','20','30','16','140','122','41']\n",
    "\n",
    "label_encoding_ref = {}\n",
    "label_encoding_ref[var] ={code: i+1 for i, code in enumerate(t)}\n",
    "\n",
    "# train\n",
    "df[var] = [label_encoding_ref[var].get(x,0) for x in df[var]]\n",
    "df.reset_index(drop=True, inplace=True)\n",
    "\n",
    "# test\n",
    "df_test[var] = [label_encoding_ref[var].get(x,0) for x in df_test[var]]\n",
    "df_test.reset_index(drop=True, inplace=True)"
   ]
  },
  {
   "cell_type": "markdown",
   "metadata": {},
   "source": [
    "### 나머지"
   ]
  },
  {
   "cell_type": "code",
   "execution_count": 20,
   "metadata": {},
   "outputs": [],
   "source": [
    "others = ['해외거래처부호', '특송업체부호','수입거래구분코드', '수입종류코드', '징수형태코드', '반입보세구역부호']"
   ]
  },
  {
   "cell_type": "code",
   "execution_count": 21,
   "metadata": {},
   "outputs": [],
   "source": [
    "# 데이터에 빈도수가 2000개 이상인 값 이외에 나머지는 하나로 그룹화\n",
    "for var in others:\n",
    "    temp = df[var].value_counts()>=2000\n",
    "    t=[]\n",
    "    for key,val in temp.items():\n",
    "        if val==True:\n",
    "            t.append(key)\n",
    "        \n",
    "    label_encoding_ref = {}\n",
    "    label_encoding_ref[var] ={code: i+1 for i, code in enumerate(t)}\n",
    "\n",
    "    # train\n",
    "    df[var] = [label_encoding_ref[var].get(x,0) for x in df[var]]\n",
    "    df.reset_index(drop=True, inplace=True)\n",
    "    \n",
    "    # test\n",
    "    df_test[var] = [label_encoding_ref[var].get(x,0) for x in df_test[var]]\n",
    "    df_test.reset_index(drop=True, inplace=True)"
   ]
  },
  {
   "cell_type": "code",
   "execution_count": 22,
   "metadata": {},
   "outputs": [
    {
     "data": {
      "text/plain": [
       "((76837, 13), (23163, 12))"
      ]
     },
     "execution_count": 22,
     "metadata": {},
     "output_type": "execute_result"
    }
   ],
   "source": [
    "df.shape, df_test.shape"
   ]
  },
  {
   "cell_type": "markdown",
   "metadata": {},
   "source": [
    "### 결과 확인"
   ]
  },
  {
   "cell_type": "code",
   "execution_count": 23,
   "metadata": {},
   "outputs": [
    {
     "data": {
      "text/html": [
       "<div>\n",
       "<style scoped>\n",
       "    .dataframe tbody tr th:only-of-type {\n",
       "        vertical-align: middle;\n",
       "    }\n",
       "\n",
       "    .dataframe tbody tr th {\n",
       "        vertical-align: top;\n",
       "    }\n",
       "\n",
       "    .dataframe thead th {\n",
       "        text-align: right;\n",
       "    }\n",
       "</style>\n",
       "<table border=\"1\" class=\"dataframe\">\n",
       "  <thead>\n",
       "    <tr style=\"text-align: right;\">\n",
       "      <th></th>\n",
       "      <th>통관지세관부호</th>\n",
       "      <th>해외거래처부호</th>\n",
       "      <th>특송업체부호</th>\n",
       "      <th>수입통관계획코드</th>\n",
       "      <th>수입신고구분코드</th>\n",
       "      <th>수입거래구분코드</th>\n",
       "      <th>수입종류코드</th>\n",
       "      <th>징수형태코드</th>\n",
       "      <th>신고중량(KG)</th>\n",
       "      <th>운송수단유형코드</th>\n",
       "      <th>반입보세구역부호</th>\n",
       "      <th>관세율</th>\n",
       "      <th>우범여부</th>\n",
       "    </tr>\n",
       "  </thead>\n",
       "  <tbody>\n",
       "    <tr>\n",
       "      <th>0</th>\n",
       "      <td>0</td>\n",
       "      <td>1</td>\n",
       "      <td>0</td>\n",
       "      <td>3</td>\n",
       "      <td>1</td>\n",
       "      <td>2</td>\n",
       "      <td>0</td>\n",
       "      <td>2</td>\n",
       "      <td>126.0</td>\n",
       "      <td>2</td>\n",
       "      <td>0</td>\n",
       "      <td>8.0</td>\n",
       "      <td>1</td>\n",
       "    </tr>\n",
       "    <tr>\n",
       "      <th>1</th>\n",
       "      <td>3</td>\n",
       "      <td>1</td>\n",
       "      <td>1</td>\n",
       "      <td>2</td>\n",
       "      <td>1</td>\n",
       "      <td>1</td>\n",
       "      <td>1</td>\n",
       "      <td>1</td>\n",
       "      <td>29845.4</td>\n",
       "      <td>1</td>\n",
       "      <td>3</td>\n",
       "      <td>8.0</td>\n",
       "      <td>0</td>\n",
       "    </tr>\n",
       "    <tr>\n",
       "      <th>2</th>\n",
       "      <td>2</td>\n",
       "      <td>0</td>\n",
       "      <td>1</td>\n",
       "      <td>3</td>\n",
       "      <td>1</td>\n",
       "      <td>1</td>\n",
       "      <td>1</td>\n",
       "      <td>3</td>\n",
       "      <td>23557.5</td>\n",
       "      <td>1</td>\n",
       "      <td>0</td>\n",
       "      <td>10.0</td>\n",
       "      <td>0</td>\n",
       "    </tr>\n",
       "  </tbody>\n",
       "</table>\n",
       "</div>"
      ],
      "text/plain": [
       "   통관지세관부호  해외거래처부호  특송업체부호  수입통관계획코드  수입신고구분코드  수입거래구분코드  수입종류코드  징수형태코드  \\\n",
       "0        0        1       0         3         1         2       0       2   \n",
       "1        3        1       1         2         1         1       1       1   \n",
       "2        2        0       1         3         1         1       1       3   \n",
       "\n",
       "   신고중량(KG)  운송수단유형코드  반입보세구역부호   관세율  우범여부  \n",
       "0     126.0         2         0   8.0     1  \n",
       "1   29845.4         1         3   8.0     0  \n",
       "2   23557.5         1         0  10.0     0  "
      ]
     },
     "execution_count": 23,
     "metadata": {},
     "output_type": "execute_result"
    }
   ],
   "source": [
    "df.head(3)"
   ]
  },
  {
   "cell_type": "code",
   "execution_count": 24,
   "metadata": {
    "scrolled": false
   },
   "outputs": [
    {
     "data": {
      "text/html": [
       "<div>\n",
       "<style scoped>\n",
       "    .dataframe tbody tr th:only-of-type {\n",
       "        vertical-align: middle;\n",
       "    }\n",
       "\n",
       "    .dataframe tbody tr th {\n",
       "        vertical-align: top;\n",
       "    }\n",
       "\n",
       "    .dataframe thead th {\n",
       "        text-align: right;\n",
       "    }\n",
       "</style>\n",
       "<table border=\"1\" class=\"dataframe\">\n",
       "  <thead>\n",
       "    <tr style=\"text-align: right;\">\n",
       "      <th></th>\n",
       "      <th>통관지세관부호</th>\n",
       "      <th>해외거래처부호</th>\n",
       "      <th>특송업체부호</th>\n",
       "      <th>수입통관계획코드</th>\n",
       "      <th>수입신고구분코드</th>\n",
       "      <th>수입거래구분코드</th>\n",
       "      <th>수입종류코드</th>\n",
       "      <th>징수형태코드</th>\n",
       "      <th>신고중량(KG)</th>\n",
       "      <th>운송수단유형코드</th>\n",
       "      <th>반입보세구역부호</th>\n",
       "      <th>관세율</th>\n",
       "    </tr>\n",
       "  </thead>\n",
       "  <tbody>\n",
       "    <tr>\n",
       "      <th>0</th>\n",
       "      <td>0</td>\n",
       "      <td>0</td>\n",
       "      <td>1</td>\n",
       "      <td>5</td>\n",
       "      <td>1</td>\n",
       "      <td>0</td>\n",
       "      <td>0</td>\n",
       "      <td>0</td>\n",
       "      <td>2555.1</td>\n",
       "      <td>0</td>\n",
       "      <td>0</td>\n",
       "      <td>8.0</td>\n",
       "    </tr>\n",
       "    <tr>\n",
       "      <th>1</th>\n",
       "      <td>0</td>\n",
       "      <td>0</td>\n",
       "      <td>1</td>\n",
       "      <td>2</td>\n",
       "      <td>1</td>\n",
       "      <td>0</td>\n",
       "      <td>0</td>\n",
       "      <td>0</td>\n",
       "      <td>4010.0</td>\n",
       "      <td>0</td>\n",
       "      <td>0</td>\n",
       "      <td>40.0</td>\n",
       "    </tr>\n",
       "    <tr>\n",
       "      <th>2</th>\n",
       "      <td>0</td>\n",
       "      <td>1</td>\n",
       "      <td>1</td>\n",
       "      <td>2</td>\n",
       "      <td>1</td>\n",
       "      <td>0</td>\n",
       "      <td>0</td>\n",
       "      <td>0</td>\n",
       "      <td>4013.3</td>\n",
       "      <td>0</td>\n",
       "      <td>0</td>\n",
       "      <td>0.0</td>\n",
       "    </tr>\n",
       "  </tbody>\n",
       "</table>\n",
       "</div>"
      ],
      "text/plain": [
       "   통관지세관부호  해외거래처부호  특송업체부호  수입통관계획코드  수입신고구분코드  수입거래구분코드  수입종류코드  징수형태코드  \\\n",
       "0        0        0       1         5         1         0       0       0   \n",
       "1        0        0       1         2         1         0       0       0   \n",
       "2        0        1       1         2         1         0       0       0   \n",
       "\n",
       "   신고중량(KG)  운송수단유형코드  반입보세구역부호   관세율  \n",
       "0    2555.1         0         0   8.0  \n",
       "1    4010.0         0         0  40.0  \n",
       "2    4013.3         0         0   0.0  "
      ]
     },
     "execution_count": 24,
     "metadata": {},
     "output_type": "execute_result"
    }
   ],
   "source": [
    "df_test.head(3)"
   ]
  },
  {
   "cell_type": "code",
   "execution_count": 25,
   "metadata": {
    "scrolled": true
   },
   "outputs": [
    {
     "name": "stdout",
     "output_type": "stream",
     "text": [
      "<class 'pandas.core.frame.DataFrame'>\n",
      "RangeIndex: 76837 entries, 0 to 76836\n",
      "Data columns (total 13 columns):\n",
      "통관지세관부호     76837 non-null int64\n",
      "해외거래처부호     76837 non-null int64\n",
      "특송업체부호      76837 non-null int64\n",
      "수입통관계획코드    76837 non-null int64\n",
      "수입신고구분코드    76837 non-null int64\n",
      "수입거래구분코드    76837 non-null int64\n",
      "수입종류코드      76837 non-null int64\n",
      "징수형태코드      76837 non-null int64\n",
      "신고중량(KG)    76837 non-null float64\n",
      "운송수단유형코드    76837 non-null int64\n",
      "반입보세구역부호    76837 non-null int64\n",
      "관세율         76837 non-null float64\n",
      "우범여부        76837 non-null int64\n",
      "dtypes: float64(2), int64(11)\n",
      "memory usage: 7.6 MB\n"
     ]
    }
   ],
   "source": [
    "df.info()"
   ]
  },
  {
   "cell_type": "code",
   "execution_count": 26,
   "metadata": {},
   "outputs": [
    {
     "name": "stdout",
     "output_type": "stream",
     "text": [
      "<class 'pandas.core.frame.DataFrame'>\n",
      "RangeIndex: 23163 entries, 0 to 23162\n",
      "Data columns (total 12 columns):\n",
      "통관지세관부호     23163 non-null int64\n",
      "해외거래처부호     23163 non-null int64\n",
      "특송업체부호      23163 non-null int64\n",
      "수입통관계획코드    23163 non-null int64\n",
      "수입신고구분코드    23163 non-null int64\n",
      "수입거래구분코드    23163 non-null int64\n",
      "수입종류코드      23163 non-null int64\n",
      "징수형태코드      23163 non-null int64\n",
      "신고중량(KG)    23163 non-null float64\n",
      "운송수단유형코드    23163 non-null int64\n",
      "반입보세구역부호    23163 non-null int64\n",
      "관세율         23163 non-null float64\n",
      "dtypes: float64(2), int64(10)\n",
      "memory usage: 2.1 MB\n"
     ]
    }
   ],
   "source": [
    "df_test.info()"
   ]
  },
  {
   "cell_type": "markdown",
   "metadata": {},
   "source": [
    "### Categorical Feature 타입 string으로 변환 <br>\n",
    "(XGBoost가 string은 categorical 변수로 인식하기 때문에 string으로 변환 후, 따로 one-hot encoding 하지 않음)"
   ]
  },
  {
   "cell_type": "code",
   "execution_count": 27,
   "metadata": {},
   "outputs": [],
   "source": [
    "# train\n",
    "for var in discrete_columns:\n",
    "    df[var] = df[var].astype(str)\n",
    "    \n",
    "# test\n",
    "for var in discrete_columns:\n",
    "    df_test[var] = df_test[var].astype(str)"
   ]
  },
  {
   "cell_type": "code",
   "execution_count": 28,
   "metadata": {},
   "outputs": [
    {
     "name": "stdout",
     "output_type": "stream",
     "text": [
      "<class 'pandas.core.frame.DataFrame'>\n",
      "RangeIndex: 76837 entries, 0 to 76836\n",
      "Data columns (total 13 columns):\n",
      "통관지세관부호     76837 non-null object\n",
      "해외거래처부호     76837 non-null object\n",
      "특송업체부호      76837 non-null object\n",
      "수입통관계획코드    76837 non-null object\n",
      "수입신고구분코드    76837 non-null object\n",
      "수입거래구분코드    76837 non-null object\n",
      "수입종류코드      76837 non-null object\n",
      "징수형태코드      76837 non-null object\n",
      "신고중량(KG)    76837 non-null float64\n",
      "운송수단유형코드    76837 non-null object\n",
      "반입보세구역부호    76837 non-null object\n",
      "관세율         76837 non-null float64\n",
      "우범여부        76837 non-null int64\n",
      "dtypes: float64(2), int64(1), object(10)\n",
      "memory usage: 7.6+ MB\n"
     ]
    }
   ],
   "source": [
    "df.info()"
   ]
  },
  {
   "cell_type": "code",
   "execution_count": 29,
   "metadata": {
    "scrolled": true
   },
   "outputs": [
    {
     "name": "stdout",
     "output_type": "stream",
     "text": [
      "<class 'pandas.core.frame.DataFrame'>\n",
      "RangeIndex: 23163 entries, 0 to 23162\n",
      "Data columns (total 12 columns):\n",
      "통관지세관부호     23163 non-null object\n",
      "해외거래처부호     23163 non-null object\n",
      "특송업체부호      23163 non-null object\n",
      "수입통관계획코드    23163 non-null object\n",
      "수입신고구분코드    23163 non-null object\n",
      "수입거래구분코드    23163 non-null object\n",
      "수입종류코드      23163 non-null object\n",
      "징수형태코드      23163 non-null object\n",
      "신고중량(KG)    23163 non-null float64\n",
      "운송수단유형코드    23163 non-null object\n",
      "반입보세구역부호    23163 non-null object\n",
      "관세율         23163 non-null float64\n",
      "dtypes: float64(2), object(10)\n",
      "memory usage: 2.1+ MB\n"
     ]
    }
   ],
   "source": [
    "df_test.info()"
   ]
  },
  {
   "cell_type": "markdown",
   "metadata": {},
   "source": [
    "# 4. 신고중량 로그 변환 <br>\n",
    "right skewed 현상 완화"
   ]
  },
  {
   "cell_type": "code",
   "execution_count": 30,
   "metadata": {},
   "outputs": [],
   "source": [
    "# train\n",
    "for var in ['신고중량(KG)']:\n",
    "    df[var] = df[var].apply(lambda x: np.log1p(x+3))\n",
    "\n",
    "# test\n",
    "for var in ['신고중량(KG)']:\n",
    "    df_test[var] = df_test[var].apply(lambda x: np.log1p(x+3))"
   ]
  },
  {
   "cell_type": "markdown",
   "metadata": {},
   "source": [
    "###  결과 확인"
   ]
  },
  {
   "cell_type": "code",
   "execution_count": 31,
   "metadata": {},
   "outputs": [
    {
     "data": {
      "text/html": [
       "<div>\n",
       "<style scoped>\n",
       "    .dataframe tbody tr th:only-of-type {\n",
       "        vertical-align: middle;\n",
       "    }\n",
       "\n",
       "    .dataframe tbody tr th {\n",
       "        vertical-align: top;\n",
       "    }\n",
       "\n",
       "    .dataframe thead th {\n",
       "        text-align: right;\n",
       "    }\n",
       "</style>\n",
       "<table border=\"1\" class=\"dataframe\">\n",
       "  <thead>\n",
       "    <tr style=\"text-align: right;\">\n",
       "      <th></th>\n",
       "      <th>통관지세관부호</th>\n",
       "      <th>해외거래처부호</th>\n",
       "      <th>특송업체부호</th>\n",
       "      <th>수입통관계획코드</th>\n",
       "      <th>수입신고구분코드</th>\n",
       "      <th>수입거래구분코드</th>\n",
       "      <th>수입종류코드</th>\n",
       "      <th>징수형태코드</th>\n",
       "      <th>신고중량(KG)</th>\n",
       "      <th>운송수단유형코드</th>\n",
       "      <th>반입보세구역부호</th>\n",
       "      <th>관세율</th>\n",
       "      <th>우범여부</th>\n",
       "    </tr>\n",
       "  </thead>\n",
       "  <tbody>\n",
       "    <tr>\n",
       "      <th>0</th>\n",
       "      <td>0</td>\n",
       "      <td>1</td>\n",
       "      <td>0</td>\n",
       "      <td>3</td>\n",
       "      <td>1</td>\n",
       "      <td>2</td>\n",
       "      <td>0</td>\n",
       "      <td>2</td>\n",
       "      <td>4.867534</td>\n",
       "      <td>2</td>\n",
       "      <td>0</td>\n",
       "      <td>8.0</td>\n",
       "      <td>1</td>\n",
       "    </tr>\n",
       "    <tr>\n",
       "      <th>1</th>\n",
       "      <td>3</td>\n",
       "      <td>1</td>\n",
       "      <td>1</td>\n",
       "      <td>2</td>\n",
       "      <td>1</td>\n",
       "      <td>1</td>\n",
       "      <td>1</td>\n",
       "      <td>1</td>\n",
       "      <td>10.303920</td>\n",
       "      <td>1</td>\n",
       "      <td>3</td>\n",
       "      <td>8.0</td>\n",
       "      <td>0</td>\n",
       "    </tr>\n",
       "    <tr>\n",
       "      <th>2</th>\n",
       "      <td>2</td>\n",
       "      <td>0</td>\n",
       "      <td>1</td>\n",
       "      <td>3</td>\n",
       "      <td>1</td>\n",
       "      <td>1</td>\n",
       "      <td>1</td>\n",
       "      <td>3</td>\n",
       "      <td>10.067369</td>\n",
       "      <td>1</td>\n",
       "      <td>0</td>\n",
       "      <td>10.0</td>\n",
       "      <td>0</td>\n",
       "    </tr>\n",
       "  </tbody>\n",
       "</table>\n",
       "</div>"
      ],
      "text/plain": [
       "  통관지세관부호 해외거래처부호 특송업체부호 수입통관계획코드 수입신고구분코드 수입거래구분코드 수입종류코드 징수형태코드   신고중량(KG)  \\\n",
       "0       0       1      0        3        1        2      0      2   4.867534   \n",
       "1       3       1      1        2        1        1      1      1  10.303920   \n",
       "2       2       0      1        3        1        1      1      3  10.067369   \n",
       "\n",
       "  운송수단유형코드 반입보세구역부호   관세율  우범여부  \n",
       "0        2        0   8.0     1  \n",
       "1        1        3   8.0     0  \n",
       "2        1        0  10.0     0  "
      ]
     },
     "execution_count": 31,
     "metadata": {},
     "output_type": "execute_result"
    }
   ],
   "source": [
    "df.head(3)"
   ]
  },
  {
   "cell_type": "code",
   "execution_count": 32,
   "metadata": {
    "scrolled": true
   },
   "outputs": [
    {
     "data": {
      "text/html": [
       "<div>\n",
       "<style scoped>\n",
       "    .dataframe tbody tr th:only-of-type {\n",
       "        vertical-align: middle;\n",
       "    }\n",
       "\n",
       "    .dataframe tbody tr th {\n",
       "        vertical-align: top;\n",
       "    }\n",
       "\n",
       "    .dataframe thead th {\n",
       "        text-align: right;\n",
       "    }\n",
       "</style>\n",
       "<table border=\"1\" class=\"dataframe\">\n",
       "  <thead>\n",
       "    <tr style=\"text-align: right;\">\n",
       "      <th></th>\n",
       "      <th>통관지세관부호</th>\n",
       "      <th>해외거래처부호</th>\n",
       "      <th>특송업체부호</th>\n",
       "      <th>수입통관계획코드</th>\n",
       "      <th>수입신고구분코드</th>\n",
       "      <th>수입거래구분코드</th>\n",
       "      <th>수입종류코드</th>\n",
       "      <th>징수형태코드</th>\n",
       "      <th>신고중량(KG)</th>\n",
       "      <th>운송수단유형코드</th>\n",
       "      <th>반입보세구역부호</th>\n",
       "      <th>관세율</th>\n",
       "    </tr>\n",
       "  </thead>\n",
       "  <tbody>\n",
       "    <tr>\n",
       "      <th>0</th>\n",
       "      <td>0</td>\n",
       "      <td>0</td>\n",
       "      <td>1</td>\n",
       "      <td>5</td>\n",
       "      <td>1</td>\n",
       "      <td>0</td>\n",
       "      <td>0</td>\n",
       "      <td>0</td>\n",
       "      <td>7.847411</td>\n",
       "      <td>0</td>\n",
       "      <td>0</td>\n",
       "      <td>8.0</td>\n",
       "    </tr>\n",
       "    <tr>\n",
       "      <th>1</th>\n",
       "      <td>0</td>\n",
       "      <td>0</td>\n",
       "      <td>1</td>\n",
       "      <td>2</td>\n",
       "      <td>1</td>\n",
       "      <td>0</td>\n",
       "      <td>0</td>\n",
       "      <td>0</td>\n",
       "      <td>8.297544</td>\n",
       "      <td>0</td>\n",
       "      <td>0</td>\n",
       "      <td>40.0</td>\n",
       "    </tr>\n",
       "    <tr>\n",
       "      <th>2</th>\n",
       "      <td>0</td>\n",
       "      <td>1</td>\n",
       "      <td>1</td>\n",
       "      <td>2</td>\n",
       "      <td>1</td>\n",
       "      <td>0</td>\n",
       "      <td>0</td>\n",
       "      <td>0</td>\n",
       "      <td>8.298365</td>\n",
       "      <td>0</td>\n",
       "      <td>0</td>\n",
       "      <td>0.0</td>\n",
       "    </tr>\n",
       "  </tbody>\n",
       "</table>\n",
       "</div>"
      ],
      "text/plain": [
       "  통관지세관부호 해외거래처부호 특송업체부호 수입통관계획코드 수입신고구분코드 수입거래구분코드 수입종류코드 징수형태코드  신고중량(KG)  \\\n",
       "0       0       0      1        5        1        0      0      0  7.847411   \n",
       "1       0       0      1        2        1        0      0      0  8.297544   \n",
       "2       0       1      1        2        1        0      0      0  8.298365   \n",
       "\n",
       "  운송수단유형코드 반입보세구역부호   관세율  \n",
       "0        0        0   8.0  \n",
       "1        0        0  40.0  \n",
       "2        0        0   0.0  "
      ]
     },
     "execution_count": 32,
     "metadata": {},
     "output_type": "execute_result"
    }
   ],
   "source": [
    "df_test.head(3)"
   ]
  },
  {
   "cell_type": "markdown",
   "metadata": {},
   "source": [
    "-------------------------------------------------------------------------"
   ]
  },
  {
   "cell_type": "markdown",
   "metadata": {},
   "source": [
    "# 5. 학습 및 성능 평가"
   ]
  },
  {
   "cell_type": "code",
   "execution_count": 33,
   "metadata": {},
   "outputs": [],
   "source": [
    "# k-fold\n",
    "from sklearn.model_selection import KFold\n",
    "\n",
    "# train, test 분할\n",
    "from sklearn.model_selection import train_test_split\n",
    "\n",
    "# 성능 평가\n",
    "from sklearn.metrics import accuracy_score, classification_report,f1_score\n",
    "\n",
    "# XGBoost\n",
    "from xgboost import XGBClassifier"
   ]
  },
  {
   "cell_type": "markdown",
   "metadata": {},
   "source": [
    "### kfold를 사용하기 위해 pandas dataframe을 np array로 변경"
   ]
  },
  {
   "cell_type": "code",
   "execution_count": 34,
   "metadata": {},
   "outputs": [],
   "source": [
    "# array로 변경\n",
    "train_data = np.array(df)\n",
    "\n",
    "# xdata\n",
    "train_X = train_data[:,:-1]\n",
    "\n",
    "#ydata\n",
    "y_label = train_data[:,-1]"
   ]
  },
  {
   "cell_type": "code",
   "execution_count": 35,
   "metadata": {
    "scrolled": true
   },
   "outputs": [
    {
     "data": {
      "text/plain": [
       "array([['0', '1', '0', ..., '2', '0', 8.0],\n",
       "       ['3', '1', '1', ..., '1', '3', 8.0],\n",
       "       ['2', '0', '1', ..., '1', '0', 10.0],\n",
       "       ...,\n",
       "       ['1', '0', '1', ..., '1', '1', 0.0],\n",
       "       ['1', '0', '0', ..., '3', '0', 3.0],\n",
       "       ['1', '0', '0', ..., '1', '0', 8.0]], dtype=object)"
      ]
     },
     "execution_count": 35,
     "metadata": {},
     "output_type": "execute_result"
    }
   ],
   "source": [
    "# categorical 변수 string 타입으로 잘 들어갔는지 확인\n",
    "train_X"
   ]
  },
  {
   "cell_type": "markdown",
   "metadata": {},
   "source": [
    "### y_label int 타입으로 변환"
   ]
  },
  {
   "cell_type": "code",
   "execution_count": 36,
   "metadata": {},
   "outputs": [
    {
     "data": {
      "text/plain": [
       "array([1, 0, 0, ..., 0, 1, 1], dtype=object)"
      ]
     },
     "execution_count": 36,
     "metadata": {},
     "output_type": "execute_result"
    }
   ],
   "source": [
    "y_label"
   ]
  },
  {
   "cell_type": "code",
   "execution_count": 37,
   "metadata": {},
   "outputs": [],
   "source": [
    "# int 타입으로 label 변환\n",
    "y_label = y_label.astype(int)"
   ]
  },
  {
   "cell_type": "code",
   "execution_count": 38,
   "metadata": {},
   "outputs": [
    {
     "data": {
      "text/plain": [
       "array([1, 0, 0, ..., 0, 1, 1])"
      ]
     },
     "execution_count": 38,
     "metadata": {},
     "output_type": "execute_result"
    }
   ],
   "source": [
    "# 변환된 타입 확인\n",
    "y_label"
   ]
  },
  {
   "cell_type": "code",
   "execution_count": 39,
   "metadata": {},
   "outputs": [
    {
     "data": {
      "text/plain": [
       "((76837, 12), (76837,))"
      ]
     },
     "execution_count": 39,
     "metadata": {},
     "output_type": "execute_result"
    }
   ],
   "source": [
    "train_X.shape, y_label.shape"
   ]
  },
  {
   "cell_type": "markdown",
   "metadata": {},
   "source": [
    "### k-fold 모델 설정 및 train 데이터를 train/test로 분할 "
   ]
  },
  {
   "cell_type": "code",
   "execution_count": 40,
   "metadata": {},
   "outputs": [],
   "source": [
    "# k-fold 모델\n",
    "kfold = KFold(n_splits=5,shuffle=True,random_state=12)\n",
    "\n",
    "# train데이터 train:test=9:1로 분할\n",
    "xtrain,xtest,ytrain,ytest =\\\n",
    "    train_test_split(train_X,y_label,test_size=0.1)"
   ]
  },
  {
   "cell_type": "code",
   "execution_count": 41,
   "metadata": {
    "scrolled": true
   },
   "outputs": [
    {
     "data": {
      "text/plain": [
       "((69153, 12), (7684, 12))"
      ]
     },
     "execution_count": 41,
     "metadata": {},
     "output_type": "execute_result"
    }
   ],
   "source": [
    "xtrain.shape, xtest.shape"
   ]
  },
  {
   "cell_type": "markdown",
   "metadata": {},
   "source": [
    "### SMOTEENN 모델 설정"
   ]
  },
  {
   "cell_type": "code",
   "execution_count": 42,
   "metadata": {},
   "outputs": [],
   "source": [
    "# SMOTEENN 모델 설정\n",
    "from imblearn.combine import *\n",
    "smoteenn = SMOTEENN(random_state=0, sampling_strategy='all')"
   ]
  },
  {
   "cell_type": "markdown",
   "metadata": {},
   "source": [
    "### XGBoost 모델 설정"
   ]
  },
  {
   "cell_type": "code",
   "execution_count": 43,
   "metadata": {},
   "outputs": [],
   "source": [
    "# XGBoost 모델\n",
    "model = XGBClassifier(n_estimators=30,max_depth=5,use_label_encoder=False)"
   ]
  },
  {
   "cell_type": "markdown",
   "metadata": {},
   "source": [
    "### k 번의 교차검증으로 모델 성능 측정 (5-fold + SMOTEENN + XGBoost) "
   ]
  },
  {
   "cell_type": "code",
   "execution_count": 55,
   "metadata": {
    "scrolled": false
   },
   "outputs": [
    {
     "name": "stdout",
     "output_type": "stream",
     "text": [
      "TRAIN: [    1     2     3 ... 69149 69150 69152] TEST: [    0    26    32 ... 69135 69146 69151]\n",
      "\n",
      "#1 교차 검증 정확도 : 0.7495,  학습 데이터 크기 : (56664, 12),  검증 데이터 크기 : (13831, 12)\n",
      "#1 검증 세트 인덱스 : [    0    26    32 ... 69135 69146 69151]\n",
      "=======================================================================\n",
      "\n",
      "\n",
      "TRAIN: [    0     1     2 ... 69150 69151 69152] TEST: [    5     6     8 ... 69120 69130 69141]\n",
      "\n",
      "#2 교차 검증 정확도 : 0.7475,  학습 데이터 크기 : (56195, 12),  검증 데이터 크기 : (13831, 12)\n",
      "#2 검증 세트 인덱스 : [    5     6     8 ... 69120 69130 69141]\n",
      "=======================================================================\n",
      "\n",
      "\n",
      "TRAIN: [    0     1     3 ... 69150 69151 69152] TEST: [    2     7     9 ... 69147 69148 69149]\n",
      "\n",
      "#3 교차 검증 정확도 : 0.7506,  학습 데이터 크기 : (56417, 12),  검증 데이터 크기 : (13831, 12)\n",
      "#3 검증 세트 인덱스 : [    2     7     9 ... 69147 69148 69149]\n",
      "=======================================================================\n",
      "\n",
      "\n",
      "TRAIN: [    0     1     2 ... 69149 69150 69151] TEST: [    3     4    13 ... 69143 69144 69152]\n",
      "\n",
      "#4 교차 검증 정확도 : 0.753,  학습 데이터 크기 : (56172, 12),  검증 데이터 크기 : (13830, 12)\n",
      "#4 검증 세트 인덱스 : [    3     4    13 ... 69143 69144 69152]\n",
      "=======================================================================\n",
      "\n",
      "\n",
      "TRAIN: [    0     2     3 ... 69149 69151 69152] TEST: [    1    10    17 ... 69132 69142 69150]\n",
      "\n",
      "#5 교차 검증 정확도 : 0.7537,  학습 데이터 크기 : (56527, 12),  검증 데이터 크기 : (13830, 12)\n",
      "#5 검증 세트 인덱스 : [    1    10    17 ... 69132 69142 69150]\n",
      "=======================================================================\n",
      "\n",
      "\n"
     ]
    }
   ],
   "source": [
    "# 에측값 담을 리스트 (모델 성능평가용도)\n",
    "predict_all=[]\n",
    "\n",
    "# 실제값 담을 리스트 (모델 성능평가용도)\n",
    "real_label=[]\n",
    "\n",
    "# 반복횟수 (확인용)\n",
    "n_iter =0\n",
    "\n",
    "# k-fold로 교차검증에서 사용할 train data 분할\n",
    "for train_index, val_index in kfold.split(xtrain):  \n",
    "    \n",
    "    # 5번의 시도\n",
    "    # train_index: 학습용으로 쓰이는 인덱스\n",
    "    # test_index: 검증용으로 쓰이는 인덱스\n",
    "    \n",
    "    \n",
    "    # 각 인덱스 출력 (확인용)\n",
    "    print(\"TRAIN:\", train_index, \"TEST:\", val_index)\n",
    "\n",
    "    # 인덱스에 해당하는 train, val data를 x_train, x_val, y_train, y_val에 담기\n",
    "    x_train, x_val = xtrain[train_index], xtrain[val_index]\n",
    "    y_train, y_val = ytrain[train_index], ytrain[val_index]\n",
    "\n",
    "    # train data에 SMOTEENN 적용\n",
    "    x_train,y_train = smoteenn.fit_resample(x_train,y_train)\n",
    "    \n",
    "    # XGBoost로 x_train 학습\n",
    "    model.fit(x_train, y_train ,eval_metric=[\"logloss\"],verbose=True)\n",
    "    \n",
    "    # 학습된 모델로 검증용 데이터 예측\n",
    "    pred = model.predict(x_val)\n",
    "    \n",
    "    #예측값 담기\n",
    "    pred = list(pred)\n",
    "    predict_all.append(pred)\n",
    "    \n",
    "    # 실제 값 담기\n",
    "    real_label.append(list(y_val))\n",
    "    \n",
    "    \n",
    "    \n",
    "    # 반복횟수 증가\n",
    "    n_iter += 1\n",
    "    \n",
    "    # 정확도, 소수점 4자리 반올림\n",
    "    accuracy = np.round(accuracy_score(y_val, pred), 4)\n",
    "    \n",
    "\n",
    "    # 반복할 때마다 진행상황 확인\n",
    "    print('\\n#{0} 교차 검증 정확도 : {1},  학습 데이터 크기 : {2},  검증 데이터 크기 : {3}'\n",
    "    .format(n_iter, accuracy,  x_train.shape,  x_val.shape))\n",
    "    print('#{0} 검증 세트 인덱스 : {1}'.format(n_iter,val_index))\n",
    "    \n",
    "    print(\"=======================================================================\\n\\n\")\n",
    "    \n",
    "    "
   ]
  },
  {
   "cell_type": "markdown",
   "metadata": {},
   "source": [
    "## train_data에 대한 모델 성능"
   ]
  },
  {
   "cell_type": "code",
   "execution_count": 53,
   "metadata": {},
   "outputs": [
    {
     "name": "stdout",
     "output_type": "stream",
     "text": [
      "              precision    recall  f1-score   support\n",
      "\n",
      "           0       0.91      0.75      0.82     53385\n",
      "           1       0.47      0.74      0.58     15768\n",
      "\n",
      "    accuracy                           0.75     69153\n",
      "   macro avg       0.69      0.75      0.70     69153\n",
      "weighted avg       0.81      0.75      0.77     69153\n",
      "\n",
      "0.5755253886520978\n"
     ]
    }
   ],
   "source": [
    "# 예측값 1-D Array로 변환\n",
    "y_hat = []\n",
    "\n",
    "for i in range(len(predict_all)):\n",
    "    for j in range(len(predict_all[i])):\n",
    "        y_hat.append(predict_all[i][j])  \n",
    "        \n",
    "# 실제값 1-D Array로 변환\n",
    "y=[]\n",
    "\n",
    "for i in range(len(real_label)):\n",
    "    for j in range(len(real_label[i])):\n",
    "        y.append(real_label[i][j]) \n",
    "        \n",
    "\n",
    "# 리포트 확인\n",
    "print(classification_report(y, y_hat))\n",
    "\n",
    "# f1 성능 확인\n",
    "print(f1_score(y,y_hat))"
   ]
  },
  {
   "cell_type": "markdown",
   "metadata": {},
   "source": [
    "## test_data에 대한 모델 성능"
   ]
  },
  {
   "cell_type": "code",
   "execution_count": 54,
   "metadata": {},
   "outputs": [
    {
     "name": "stdout",
     "output_type": "stream",
     "text": [
      "              precision    recall  f1-score   support\n",
      "\n",
      "           0       0.91      0.76      0.83      5880\n",
      "           1       0.50      0.75      0.60      1804\n",
      "\n",
      "    accuracy                           0.76      7684\n",
      "   macro avg       0.70      0.76      0.71      7684\n",
      "weighted avg       0.81      0.76      0.78      7684\n",
      "\n",
      "0.5986364636023752\n"
     ]
    }
   ],
   "source": [
    "# 리포트 확인\n",
    "ypred = model.predict(xtest)\n",
    "print(classification_report(ytest, ypred)) \n",
    "\n",
    "# f1 성능 확인\n",
    "print(f1_score(ytest,ypred))"
   ]
  },
  {
   "cell_type": "markdown",
   "metadata": {},
   "source": [
    "# 6. 제출"
   ]
  },
  {
   "cell_type": "code",
   "execution_count": 52,
   "metadata": {
    "scrolled": true
   },
   "outputs": [],
   "source": [
    "submission = model.predict(np.array(df_test))\n",
    "sub = pd.read_excel('submission.xlsx',engine='openpyxl')\n",
    "sub['우범여부']=submission\n",
    "sub.to_excel(\"헬퍼팀제출.xlsx\")"
   ]
  },
  {
   "cell_type": "code",
   "execution_count": null,
   "metadata": {},
   "outputs": [],
   "source": []
  }
 ],
 "metadata": {
  "kernelspec": {
   "display_name": "Python 3",
   "language": "python",
   "name": "python3"
  },
  "language_info": {
   "codemirror_mode": {
    "name": "ipython",
    "version": 3
   },
   "file_extension": ".py",
   "mimetype": "text/x-python",
   "name": "python",
   "nbconvert_exporter": "python",
   "pygments_lexer": "ipython3",
   "version": "3.7.7"
  }
 },
 "nbformat": 4,
 "nbformat_minor": 5
}
